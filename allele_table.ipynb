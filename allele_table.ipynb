{
 "cells": [
  {
   "cell_type": "code",
   "execution_count": 1,
   "id": "5be00232",
   "metadata": {},
   "outputs": [],
   "source": [
    "import pandas as pd\n",
    "import numpy as np\n",
    "import dataframe_image as dfi"
   ]
  },
  {
   "cell_type": "code",
   "execution_count": 2,
   "id": "25fb45ac",
   "metadata": {},
   "outputs": [],
   "source": [
    "df = pd.read_csv('summary.mts10k.mbs50.buckets.none.mutrans.data.single.5000.1.50.None.S_50.0.nueff_100.tau_100.0.T_50000_10000.s0.csv', index_col=0)"
   ]
  },
  {
   "cell_type": "code",
   "execution_count": 3,
   "id": "9c6ea794",
   "metadata": {},
   "outputs": [],
   "source": [
    "def export_pip_table(dataframe, num_rows=20, filename='allele_level.pdf', by='PIP'):\n",
    "    dataframe = dataframe.sort_values(by=[by], ascending=False)\n",
    "    dataframe = dataframe.iloc[:num_rows]\n",
    "    \n",
    "    beta = ['{:.3f} ± {:.3f}'.format(b, 1.96 * s) for b, s in zip(dataframe['Beta'].values,\n",
    "                                                                   dataframe['BetaStd'].values)]\n",
    "    dataframe.loc[dataframe.index, 'Beta'] = pd.Series(beta, index=dataframe.index)\n",
    "    dataframe.loc[dataframe.index, 'PIP'] = np.round(dataframe['PIP'].values, 4)\n",
    "    dataframe = dataframe.reset_index(level=0)\n",
    "    dataframe.index = np.arange(1, 1 + dataframe.values.shape[0])    \n",
    "    dataframe = dataframe[['index', 'PIP', 'Beta']]\n",
    "    dataframe.columns = ['Mutation', 'PIP', 'Beta']\n",
    "    inrbd = lambda x: int(x) >= 319 and int(x) <= 541\n",
    "    rbd = [m.split(':')[0] == 'S' and inrbd(m.split(':')[1][1:-1]) for m in dataframe['Mutation'].values]  #(319, 541)\n",
    "    dataframe['RBD'] = ['Yes' if m == True else '' for m in rbd]\n",
    "    dataframe = dataframe[['Mutation', 'RBD', 'PIP', 'Beta']]\n",
    "    dfi.export(dataframe, filename)\n",
    "    print(dataframe)\n",
    "    return dataframe"
   ]
  },
  {
   "cell_type": "code",
   "execution_count": 4,
   "id": "68c047c7",
   "metadata": {},
   "outputs": [],
   "source": [
    "export_pip_table(df, num_rows=25, filename='pip_ranked_alleles.png', by='PIP')"
   ]
  }
 ],
 "metadata": {
  "kernelspec": {
   "display_name": "Python 3 (ipykernel)",
   "language": "python",
   "name": "python3"
  },
  "language_info": {
   "codemirror_mode": {
    "name": "ipython",
    "version": 3
   },
   "file_extension": ".py",
   "mimetype": "text/x-python",
   "name": "python",
   "nbconvert_exporter": "python",
   "pygments_lexer": "ipython3",
   "version": "3.11.5"
  }
 },
 "nbformat": 4,
 "nbformat_minor": 5
}
