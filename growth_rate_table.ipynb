{
 "cells": [
  {
   "cell_type": "code",
   "execution_count": 1,
   "id": "29c553c0",
   "metadata": {},
   "outputs": [],
   "source": [
    "import pandas as pd\n",
    "import numpy as np\n",
    "import dataframe_image as dfi   # you will need to pip install this library"
   ]
  },
  {
   "cell_type": "code",
   "execution_count": 2,
   "id": "8d29cb8e",
   "metadata": {},
   "outputs": [],
   "source": [
    "df = pd.read_csv('growthrates.mts10k.mbs50.buckets.none.mutrans.data.single.5000.1.50.None.S_50.0.nueff_100.tau_100.0.T_50000_10000.s0.csv', index_col=0)\n",
    "pangos = set(df['Variant Name'].tolist())"
   ]
  },
  {
   "cell_type": "code",
   "execution_count": 3,
   "id": "fe894ef5",
   "metadata": {},
   "outputs": [],
   "source": [
    "def get_growth_rates(dataframe, num_lineages=20):\n",
    "    rates = []\n",
    "    \n",
    "    for pango in pangos:\n",
    "        df_pango = dataframe[dataframe['Variant Name'] == pango]\n",
    "        means = df_pango.GrowthRate.values\n",
    "        mean = means.mean()\n",
    "        var = np.square(df_pango.GrowthRateStd.values).mean() + \\\n",
    "              np.square(means).mean() - np.square(mean)\n",
    "        rates.append( (mean, np.sqrt(var), pango) )\n",
    "        \n",
    "    rates = sorted(rates)\n",
    "    means = np.array([r[0] for r in rates[-num_lineages:]][::-1])\n",
    "    stds = np.array([1.96 * r[1] for r in rates[-num_lineages:]][::-1])\n",
    "    lineages = np.array([r[2] for r in rates[-num_lineages:]][::-1])\n",
    "    \n",
    "    return means, stds, lineages"
   ]
  },
  {
   "cell_type": "markdown",
   "id": "80e3333e",
   "metadata": {},
   "source": [
    "## Tables"
   ]
  },
  {
   "cell_type": "code",
   "execution_count": 4,
   "id": "24a09c3b",
   "metadata": {},
   "outputs": [],
   "source": [
    "def export_growth_rate_table(dataframe, start=0, finish=20, filename='growth_rates_table.png'):\n",
    "    means, stds, lineages = get_growth_rates(df, num_lineages=finish)\n",
    "    growth_rate = ['{:.3f} ± {:.3f}'.format(b, s) for b, s in zip(means, stds)]\n",
    "    dataframe = np.stack([lineages, growth_rate]).T\n",
    "    dataframe = pd.DataFrame(dataframe, index=np.arange(1, finish+1), \n",
    "                             columns=['Lineage', 'Growth Rate'])\n",
    "    dataframe = dataframe.iloc[start:finish]\n",
    "    dfi.export(dataframe, filename)"
   ]
  },
  {
   "cell_type": "code",
   "execution_count": 5,
   "id": "a53f57b3",
   "metadata": {},
   "outputs": [],
   "source": [
    "export_growth_rate_table(df, start=0, finish=20, filename='top_growth_rates.png')"
   ]
  },
  {
   "cell_type": "code",
   "execution_count": null,
   "id": "ac349f61",
   "metadata": {},
   "outputs": [],
   "source": []
  }
 ],
 "metadata": {
  "kernelspec": {
   "display_name": "Python 3 (ipykernel)",
   "language": "python",
   "name": "python3"
  },
  "language_info": {
   "codemirror_mode": {
    "name": "ipython",
    "version": 3
   },
   "file_extension": ".py",
   "mimetype": "text/x-python",
   "name": "python",
   "nbconvert_exporter": "python",
   "pygments_lexer": "ipython3",
   "version": "3.11.5"
  }
 },
 "nbformat": 4,
 "nbformat_minor": 5
}
